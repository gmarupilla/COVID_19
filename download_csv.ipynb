{
 "cells": [
  {
   "cell_type": "code",
   "execution_count": 13,
   "metadata": {},
   "outputs": [],
   "source": [
    "import pandas as pd\n",
    "import numpy as np\n",
    "import io\n",
    "import datetime\n",
    "import requests"
   ]
  },
  {
   "cell_type": "code",
   "execution_count": null,
   "metadata": {},
   "outputs": [],
   "source": [
    "# save as CSV files from url \n",
    "start_date = datetime.datetime(2020, 1, 21)\n",
    "today = datetime.datetime.today()\n",
    "\n",
    "total_days_str = today - start_date\n",
    "total_days = int(total_days_str.days)\n",
    "\n",
    "date_list = list()\n",
    "for i in range(total_days):\n",
    "    start_date += datetime.timedelta(days=1)\n",
    "    date_list.append(start_date.strftime(\"%m-%d-%Y\"))\n",
    "\n",
    "base_url = 'https://raw.githubusercontent.com/CSSEGISandData/COVID-19/master/csse_covid_19_data/csse_covid_19_daily_reports/'\n",
    "for date in range(len(date_list)):\n",
    "    modified_url = base_url + str(date_list[date]) + '.csv'\n",
    "    read_data = requests.get(modified_url).content\n",
    "    pd.read_csv(io.StringIO(read_data.decode('utf-8'))).to_csv(f'COVID_data/{date_list[date]}.csv', index=False)"
   ]
  },
  {
   "cell_type": "code",
   "execution_count": 64,
   "metadata": {},
   "outputs": [],
   "source": [
    "def get_daily_data_for_each_country(country, df, date_validator, first_case_found):\n",
    "    try:\n",
    "        confirmed_cases = df[df['Country/Region'] == country]['Confirmed']\n",
    "        death_cases = df[df['Country/Region'] == country]['Deaths']\n",
    "        recovered_cases = df[df['Country/Region'] == country]['Recovered']\n",
    "        if len(confirmed_cases) > 0:\n",
    "            print(f'Total number of confirmed cases in Country/Region, {country} on {date_validator} was, ', df[df['Country/Region'] == country]['Confirmed'].values)\n",
    "            confirmed_cases_count = df[df['Country/Region'] == country]['Confirmed'].values[0]\n",
    "        if len(death_cases) > 0:\n",
    "            print(f'Total number of deaths in Country/Region, {country} on {date_validator} was, ', df[df['Country/Region'] == country]['Deaths'].values)\n",
    "            death_cases_count = df[df['Country/Region'] == country]['Deaths'].values[0]\n",
    "        if len(recovered_cases) > 0:\n",
    "            print(f'Total number of recoveries in Country/Region, {country} on {date_validator} was, ', df[df['Country/Region'] == country]['Recovered'].values)\n",
    "            recovered_cases_count = df[df['Country/Region'] == country]['Recovered'].values[0]\n",
    "        else:\n",
    "            print(f'No cases were found in Country/Region {country} on {date_validator}')\n",
    "            return 0, 0, 0, date_validator\n",
    "    except:\n",
    "        confirmed_cases = df[df['Country_Region'] == country]['Confirmed']\n",
    "        death_cases = df[df['Country_Region'] == country]['Deaths']\n",
    "        recovered_cases = df[df['Country_Region'] == country]['Recovered']\n",
    "        if len(confirmed_cases) > 0:\n",
    "            print(f'Total number of confirmed cases in Country_Region, {country} on {date_validator} was, ', df[df['Country_Region'] == country]['Confirmed'].values)\n",
    "            confirmed_cases_count = df[df['Country_Region'] == country]['Confirmed'].values[0]\n",
    "        if len(death_cases) > 0:\n",
    "            print(f'Total number of deaths in Country_Region, {country} on {date_validator} was, ', df[df['Country_Region'] == country]['Deaths'].values)\n",
    "            death_cases_count = df[df['Country_Region'] == country]['Deaths'].values[0]\n",
    "        if len(recovered_cases) > 0:\n",
    "            print(f'Total number of recoveries in Country_Region, {country} on {date_validator} was, ', df[df['Country_Region'] == country]['Recovered'].values)\n",
    "            recovered_cases_count = df[df['Country_Region'] == country]['Recovered'].values[0]\n",
    "        else:\n",
    "            print(f'No cases were found in Country_Region {country} on {date_validator}')\n",
    "            return 0, 0, 0, date_validator"
   ]
  },
  {
   "cell_type": "code",
   "execution_count": 65,
   "metadata": {},
   "outputs": [],
   "source": [
    "df = pd.read_csv('COVID_data/01-23-2020.csv')\n",
    "df.fillna(0, axis=1, inplace=True)"
   ]
  },
  {
   "cell_type": "code",
   "execution_count": 66,
   "metadata": {},
   "outputs": [
    {
     "name": "stdout",
     "output_type": "stream",
     "text": [
      "Total number of confirmed cases in Country/Region, Mainland China on 01-23-2020 was,  [  9.  22.   9.   5.   2.  32.   5.   3.   5.   1.   2.   5. 444.   9.\n",
      "   0.   5.   7.   1.   3.   1.   0.   3.   6.  16.   1.   8.   4.   0.\n",
      "   2.   2.  27.]\n",
      "Total number of deaths in Country/Region, Mainland China on 01-23-2020 was,  [ 0.  0.  0.  0.  0.  0.  0.  0.  0.  1.  0.  0. 17.  0.  0.  0.  0.  0.\n",
      "  0.  0.  0.  0.  0.  0.  0.  0.  0.  0.  0.  0.  0.]\n",
      "Total number of recoveries in Country/Region, Mainland China on 01-23-2020 was,  [ 0.  0.  0.  0.  0.  2.  0.  0.  0.  0.  0.  0. 28.  0.  0.  0.  0.  0.\n",
      "  0.  0.  0.  0.  0.  0.  0.  0.  0.  0.  0.  0.  0.]\n"
     ]
    }
   ],
   "source": [
    "get_daily_data_for_each_country('Mainland China', df, '01-23-2020', first_case_found)"
   ]
  },
  {
   "cell_type": "code",
   "execution_count": 79,
   "metadata": {},
   "outputs": [
    {
     "name": "stdout",
     "output_type": "stream",
     "text": [
      "2020-05-11\n",
      "2020-05-11\n",
      "110\n",
      "2020-01-22\n"
     ]
    },
    {
     "data": {
      "text/plain": [
       "1"
      ]
     },
     "execution_count": 79,
     "metadata": {},
     "output_type": "execute_result"
    }
   ],
   "source": [
    "current_date = datetime.date.today()\n",
    "\n",
    "first_date = datetime.date(2020, 1, 22)\n",
    "\n",
    "days_since_first_data = (current_date - first_date).days\n",
    "\n",
    "date_iterator = first_date\n",
    "\n",
    "first_case_found = False\n",
    "\n",
    "previous_confirmed_count = 0\n",
    "\n",
    "previous_death_count = 0\n",
    "\n",
    "previous_recovered_count = 0\n",
    "\n",
    "len(str(date_iterator.month))\n"
   ]
  },
  {
   "cell_type": "code",
   "execution_count": 76,
   "metadata": {},
   "outputs": [],
   "source": [
    "for day in range(days_since_first_data):\n",
    "#     if len(str(date_iterator.month)) > 1:\n",
    "#         date_iterator_month = str(date_iterator.month)\n",
    "#     else:\n",
    "#         date_iterator_month = '0' + str(date_iterator.month)\n",
    "\n",
    "#     if len(str(date_iterator.day)) > 1:\n",
    "#         date_iterator_day = str(date_iterator.day)\n",
    "#     else:\n",
    "#         date_iterator_day = '0' + str(date_iterator.day)\n",
    "    date_iterator_month = str(date_iterator.month) if len(str(date_iterator.month)) > 1 else '0' + str(date_iterator.month)\n",
    "    print(date_iterator_month)\n",
    "    date_iterator_day = str(date_iterator.day) if len(str(date_iterator.day)) > 1 else '0' + str(date_iterator.day)\n",
    "    print(date_iterator_day)\n",
    "    date_iterator_year = str(date_iterator.year)\n",
    "    print(date_iterator_year)\n",
    "\n",
    "\n",
    "#     date_validator = date_iterator_month + '-' + date_iterator_day + '-' + date_iterator_year\n",
    "#     file_validator = date_validator + '.csv'\n",
    "\n",
    "#     covid_data = pd.read_csv('COVID_data/' + file_validator)\n",
    "\n",
    "#     covid_data.fillna(0, axis=1, inplace=True)\n",
    "#     country ='Mainland China'\n",
    "#     total_confirmed, total_deaths, total_recovered, date_of_first_case = get_daily_data_for_each_country(country, df, date_validator, first_case_found)"
   ]
  },
  {
   "cell_type": "code",
   "execution_count": null,
   "metadata": {},
   "outputs": [],
   "source": []
  },
  {
   "cell_type": "code",
   "execution_count": null,
   "metadata": {},
   "outputs": [],
   "source": []
  }
 ],
 "metadata": {
  "kernelspec": {
   "display_name": "COVID",
   "language": "python",
   "name": "covid"
  },
  "language_info": {
   "codemirror_mode": {
    "name": "ipython",
    "version": 3
   },
   "file_extension": ".py",
   "mimetype": "text/x-python",
   "name": "python",
   "nbconvert_exporter": "python",
   "pygments_lexer": "ipython3",
   "version": "3.7.6"
  }
 },
 "nbformat": 4,
 "nbformat_minor": 4
}
