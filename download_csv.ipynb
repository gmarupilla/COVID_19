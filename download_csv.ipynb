{
 "cells": [
  {
   "cell_type": "code",
   "execution_count": 13,
   "metadata": {},
   "outputs": [],
   "source": [
    "import pandas as pd\n",
    "import io\n",
    "import datetime\n",
    "import requests"
   ]
  },
  {
   "cell_type": "code",
   "execution_count": null,
   "metadata": {},
   "outputs": [],
   "source": [
    "# save as CSV files from url \n",
    "start_date = datetime.datetime(2020, 1, 21)\n",
    "today = datetime.datetime.today()\n",
    "\n",
    "total_days_str = today - start_date\n",
    "total_days = int(total_days_str.days)\n",
    "\n",
    "date_list = list()\n",
    "for i in range(total_days):\n",
    "    start_date += datetime.timedelta(days=1)\n",
    "    date_list.append(start_date.strftime(\"%m-%d-%Y\"))\n",
    "\n",
    "url = 'https://raw.githubusercontent.com/CSSEGISandData/COVID-19/master/csse_covid_19_data/csse_covid_19_daily_reports/'\n",
    "for date in range(len(date_list)):\n",
    "    modified_url = url + str(date_list[date]) + '.csv'\n",
    "    read_data = requests.get(modified_url).content\n",
    "    pd.read_csv(io.StringIO(read_data.decode('utf-8'))).to_csv(f'COVID_data/{date_list[date]}.csv', index=False)\n",
    "    "
   ]
  },
  {
   "cell_type": "code",
   "execution_count": 34,
   "metadata": {},
   "outputs": [
    {
     "name": "stdout",
     "output_type": "stream",
     "text": [
      "21\n"
     ]
    }
   ],
   "source": [
    "current_date = datetime.datetime.today()\n",
    "first_date = datetime.datetime(2020, 1, 21)\n",
    "days_since = (current_date - first_date).days\n",
    "first_case_found = False"
   ]
  },
  {
   "cell_type": "code",
   "execution_count": null,
   "metadata": {},
   "outputs": [],
   "source": []
  }
 ],
 "metadata": {
  "kernelspec": {
   "display_name": "COVID",
   "language": "python",
   "name": "covid"
  },
  "language_info": {
   "codemirror_mode": {
    "name": "ipython",
    "version": 3
   },
   "file_extension": ".py",
   "mimetype": "text/x-python",
   "name": "python",
   "nbconvert_exporter": "python",
   "pygments_lexer": "ipython3",
   "version": "3.7.6"
  }
 },
 "nbformat": 4,
 "nbformat_minor": 4
}
