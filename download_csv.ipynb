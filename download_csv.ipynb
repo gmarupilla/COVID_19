{
 "cells": [
  {
   "cell_type": "code",
   "execution_count": 10,
   "metadata": {},
   "outputs": [],
   "source": [
    "import pandas as pd\n",
    "from glob import glob\n",
    "import numpy as np\n",
    "import io\n",
    "import datetime\n",
    "import requests\n",
    "import matplotlib.pyplot as plt\n",
    "import seaborn as sns\n",
    "%matplotlib inline"
   ]
  },
  {
   "cell_type": "code",
   "execution_count": 3,
   "metadata": {},
   "outputs": [],
   "source": [
    "# save as CSV files from url \n",
    "start_date = datetime.datetime(2020, 1, 21)\n",
    "today = datetime.datetime.today()\n",
    "\n",
    "total_days_str = today - start_date\n",
    "total_days = int(total_days_str.days)\n",
    "\n",
    "date_list = list()\n",
    "for i in range(total_days):\n",
    "    start_date += datetime.timedelta(days=1)\n",
    "    date_list.append(start_date.strftime(\"%m-%d-%Y\"))\n",
    "\n",
    "base_url = 'https://raw.githubusercontent.com/CSSEGISandData/COVID-19/master/csse_covid_19_data/csse_covid_19_daily_reports/'\n",
    "for date in range(len(date_list)):\n",
    "    modified_url = base_url + str(date_list[date]) + '.csv'\n",
    "    read_data = requests.get(modified_url).content\n",
    "    pd.read_csv(io.StringIO(read_data.decode('utf-8'))).to_csv(f'COVID_data/{date_list[date]}.csv', index=False)"
   ]
  },
  {
   "cell_type": "code",
   "execution_count": 4,
   "metadata": {},
   "outputs": [],
   "source": [
    "def get_daily_data_for_each_country(country, df, date_validator, first_case_found):\n",
    "    try:\n",
    "        confirmed_cases = df[df['Country/Region'] == country]['Confirmed']\n",
    "        death_cases = df[df['Country/Region'] == country]['Deaths']\n",
    "        recovered_cases = df[df['Country/Region'] == country]['Recovered']\n",
    "        if len(confirmed_cases) > 0:\n",
    "            print(f'Total number of confirmed cases in Country/Region, {country} on {date_validator} was, ', df[df['Country/Region'] == country]['Confirmed'].values)\n",
    "            confirmed_cases_count = df[df['Country/Region'] == country]['Confirmed'].values[0]\n",
    "        if len(death_cases) > 0:\n",
    "            print(f'Total number of deaths in Country/Region, {country} on {date_validator} was, ', df[df['Country/Region'] == country]['Deaths'].values)\n",
    "            death_cases_count = df[df['Country/Region'] == country]['Deaths'].values[0]\n",
    "        if len(recovered_cases) > 0:\n",
    "            print(f'Total number of recoveries in Country/Region, {country} on {date_validator} was, ', df[df['Country/Region'] == country]['Recovered'].values)\n",
    "            recovered_cases_count = df[df['Country/Region'] == country]['Recovered'].values[0]\n",
    "        else:\n",
    "            print(f'No cases were found in Country/Region {country} on {date_validator}')\n",
    "            return 0, 0, 0, date_validator\n",
    "    except:\n",
    "        confirmed_cases = df[df['Country_Region'] == country]['Confirmed']\n",
    "        death_cases = df[df['Country_Region'] == country]['Deaths']\n",
    "        recovered_cases = df[df['Country_Region'] == country]['Recovered']\n",
    "        if len(confirmed_cases) > 0:\n",
    "            print(f'Total number of confirmed cases in Country_Region, {country} on {date_validator} was, ', df[df['Country_Region'] == country]['Confirmed'].values)\n",
    "            confirmed_cases_count = df[df['Country_Region'] == country]['Confirmed'].values[0]\n",
    "        if len(death_cases) > 0:\n",
    "            print(f'Total number of deaths in Country_Region, {country} on {date_validator} was, ', df[df['Country_Region'] == country]['Deaths'].values)\n",
    "            death_cases_count = df[df['Country_Region'] == country]['Deaths'].values[0]\n",
    "        if len(recovered_cases) > 0:\n",
    "            print(f'Total number of recoveries in Country_Region, {country} on {date_validator} was, ', df[df['Country_Region'] == country]['Recovered'].values)\n",
    "            recovered_cases_count = df[df['Country_Region'] == country]['Recovered'].values[0]\n",
    "        else:\n",
    "            print(f'No cases were found in Country_Region {country} on {date_validator}')\n",
    "            return 0, 0, 0, date_validator"
   ]
  },
  {
   "cell_type": "code",
   "execution_count": 11,
   "metadata": {},
   "outputs": [
    {
     "name": "stdout",
     "output_type": "stream",
     "text": [
      "No cases were found in Country_Region Mainland China on 01-24-2020\n",
      "<class 'pandas.core.frame.DataFrame'>\n",
      "RangeIndex: 2882 entries, 0 to 2881\n",
      "Data columns (total 12 columns):\n",
      " #   Column          Non-Null Count  Dtype  \n",
      "---  ------          --------------  -----  \n",
      " 0   FIPS            2882 non-null   float64\n",
      " 1   Admin2          2882 non-null   object \n",
      " 2   Province_State  2882 non-null   object \n",
      " 3   Country_Region  2882 non-null   object \n",
      " 4   Last_Update     2882 non-null   object \n",
      " 5   Lat             2882 non-null   float64\n",
      " 6   Long_           2882 non-null   float64\n",
      " 7   Confirmed       2882 non-null   int64  \n",
      " 8   Deaths          2882 non-null   int64  \n",
      " 9   Recovered       2882 non-null   int64  \n",
      " 10  Active          2882 non-null   int64  \n",
      " 11  Combined_Key    2882 non-null   object \n",
      "dtypes: float64(3), int64(4), object(5)\n",
      "memory usage: 270.3+ KB\n"
     ]
    }
   ],
   "source": [
    "data_frames[2].fillna(0, axis=1, inplace=True)\n",
    "get_daily_data_for_each_country('Mainland China', data_frames[2], date_validator[2], first_case_found)\n",
    "data_frames[2].info()"
   ]
  },
  {
   "cell_type": "code",
   "execution_count": 12,
   "metadata": {},
   "outputs": [
    {
     "data": {
      "text/plain": [
       "<matplotlib.axes._subplots.AxesSubplot at 0x11fbf9950>"
      ]
     },
     "execution_count": 12,
     "metadata": {},
     "output_type": "execute_result"
    },
    {
     "data": {
      "image/png": "[encoded data removed]",
      "text/plain": [
       "<Figure size 432x288 with 1 Axes>"
      ]
     },
     "metadata": {
      "needs_background": "light"
     },
     "output_type": "display_data"
    }
   ],
   "source": [
    "sns.heatmap(data_frames[2].isnull(),yticklabels=False,cbar=False,cmap='viridis')"
   ]
  },
  {
   "cell_type": "code",
   "execution_count": 13,
   "metadata": {},
   "outputs": [
    {
     "data": {
      "text/plain": [
       "<matplotlib.axes._subplots.AxesSubplot at 0x12f44f310>"
      ]
     },
     "execution_count": 13,
     "metadata": {},
     "output_type": "execute_result"
    },
    {
     "data": {
      "image/png": "[encoded data removed]",
      "text/plain": [
       "<Figure size 432x288 with 1 Axes>"
      ]
     },
     "metadata": {
      "needs_background": "light"
     },
     "output_type": "display_data"
    }
   ],
   "source": [
    "sns.heatmap(data_frames[98].isnull(),yticklabels=False,cbar=False,cmap='viridis')"
   ]
  },
  {
   "cell_type": "code",
   "execution_count": 81,
   "metadata": {},
   "outputs": [],
   "source": [
    "# df.fillna(0, axis=1, inplace=True)"
   ]
  },
  {
   "cell_type": "code",
   "execution_count": 82,
   "metadata": {},
   "outputs": [],
   "source": [
    "# get_daily_data_for_each_country('Mainland China', df, '01-23-2020', first_case_found)"
   ]
  },
  {
   "cell_type": "code",
   "execution_count": 6,
   "metadata": {},
   "outputs": [
    {
     "name": "stdout",
     "output_type": "stream",
     "text": [
      "Total number of confirmed cases in Country/Region, Mainland China on 01-22-2020 was,  [65187  1347  1271  1205  1016   989   934   756   631   576   531   480\n",
      "   400   337   312   294   252   245   174   168   146   135   133   121\n",
      "    93    91    76    75    71    18     1]\n",
      "Total number of deaths in Country/Region, Mainland China on 01-22-2020 was,  [2615    7   19    1    4    6    1    6    0    6    3   12    4    3\n",
      "    6    1    2    1    2    5    2    3    0    1    1    2    2    0\n",
      "    0    0    0]\n",
      "Total number of recoveries in Country/Region, Mainland China on 01-22-2020 was,  [20969   851  1033   867   783   744   719   377   478   384   307   249\n",
      "   235   272   261   218   147   192   144   129   104    96   104    88\n",
      "    65    81    34    38    65    18     1]\n"
     ]
    },
    {
     "ename": "TypeError",
     "evalue": "cannot unpack non-iterable NoneType object",
     "output_type": "error",
     "traceback": [
      "\u001b[0;31m---------------------------------------------------------------------------\u001b[0m",
      "\u001b[0;31mTypeError\u001b[0m                                 Traceback (most recent call last)",
      "\u001b[0;32m<ipython-input-6-81851de73a10>\u001b[0m in \u001b[0;36m<module>\u001b[0;34m\u001b[0m\n\u001b[1;32m     15\u001b[0m     \u001b[0;32mfor\u001b[0m \u001b[0mi\u001b[0m \u001b[0;32min\u001b[0m \u001b[0mrange\u001b[0m\u001b[0;34m(\u001b[0m\u001b[0mlen\u001b[0m\u001b[0;34m(\u001b[0m\u001b[0mdata_frames\u001b[0m\u001b[0;34m)\u001b[0m\u001b[0;34m)\u001b[0m\u001b[0;34m:\u001b[0m\u001b[0;34m\u001b[0m\u001b[0;34m\u001b[0m\u001b[0m\n\u001b[1;32m     16\u001b[0m         \u001b[0mdata_frames\u001b[0m\u001b[0;34m[\u001b[0m\u001b[0mi\u001b[0m\u001b[0;34m]\u001b[0m\u001b[0;34m.\u001b[0m\u001b[0mfillna\u001b[0m\u001b[0;34m(\u001b[0m\u001b[0;36m0\u001b[0m\u001b[0;34m,\u001b[0m \u001b[0maxis\u001b[0m\u001b[0;34m=\u001b[0m\u001b[0;36m1\u001b[0m\u001b[0;34m,\u001b[0m \u001b[0minplace\u001b[0m\u001b[0;34m=\u001b[0m\u001b[0;32mTrue\u001b[0m\u001b[0;34m)\u001b[0m\u001b[0;34m\u001b[0m\u001b[0;34m\u001b[0m\u001b[0m\n\u001b[0;32m---> 17\u001b[0;31m         \u001b[0mtotal_confirmed\u001b[0m\u001b[0;34m,\u001b[0m \u001b[0mtotal_deaths\u001b[0m\u001b[0;34m,\u001b[0m \u001b[0mtotal_recovered\u001b[0m\u001b[0;34m,\u001b[0m \u001b[0mdate_of_first_case\u001b[0m \u001b[0;34m=\u001b[0m \u001b[0mget_daily_data_for_each_country\u001b[0m\u001b[0;34m(\u001b[0m\u001b[0mcountry\u001b[0m\u001b[0;34m,\u001b[0m \u001b[0mdata_frames\u001b[0m\u001b[0;34m[\u001b[0m\u001b[0mi\u001b[0m\u001b[0;34m]\u001b[0m\u001b[0;34m,\u001b[0m \u001b[0mdate_validator\u001b[0m\u001b[0;34m[\u001b[0m\u001b[0mi\u001b[0m\u001b[0;34m]\u001b[0m\u001b[0;34m,\u001b[0m \u001b[0mfirst_case_found\u001b[0m\u001b[0;34m)\u001b[0m\u001b[0;34m\u001b[0m\u001b[0;34m\u001b[0m\u001b[0m\n\u001b[0m\u001b[1;32m     18\u001b[0m         \u001b[0mincrement_in_confirmed\u001b[0m \u001b[0;34m=\u001b[0m \u001b[0mtotal_confirmed\u001b[0m \u001b[0;34m-\u001b[0m \u001b[0mprevious_confirmed_count\u001b[0m\u001b[0;34m\u001b[0m\u001b[0;34m\u001b[0m\u001b[0m\n\u001b[1;32m     19\u001b[0m         \u001b[0mincrement_in_deaths\u001b[0m \u001b[0;34m=\u001b[0m \u001b[0mtotal_deaths\u001b[0m \u001b[0;34m-\u001b[0m \u001b[0mprevious_death_count\u001b[0m\u001b[0;34m\u001b[0m\u001b[0;34m\u001b[0m\u001b[0m\n",
      "\u001b[0;31mTypeError\u001b[0m: cannot unpack non-iterable NoneType object"
     ]
    }
   ],
   "source": [
    "first_case_found = False\n",
    "previous_confirmed_count = 0\n",
    "previous_death_count = 0\n",
    "previous_recovered_count = 0\n",
    "date_validator = date_list\n",
    "\n",
    "\n",
    "for date in range(len(date_list)):\n",
    "    \n",
    "    country = 'Mainland China'\n",
    "    file_names = glob('COVID_data/*.csv')\n",
    "    \n",
    "    data_frames = [pd.read_csv(df) for df in file_names]\n",
    "\n",
    "    for i in range(len(data_frames)):\n",
    "        data_frames[i].fillna(0, axis=1, inplace=True)\n",
    "        total_confirmed, total_deaths, total_recovered, date_of_first_case = get_daily_data_for_each_country(country, data_frames[i], date_validator[i], first_case_found)\n",
    "        increment_in_confirmed = total_confirmed - previous_confirmed_count\n",
    "        increment_in_deaths = total_deaths - previous_death_count\n",
    "        delta_recovered = total_recovered - previous_recovered_count\n",
    "\n",
    "        print(f'increment_in_confirmed is {increment_in_confirmed}')\n",
    "        print(f'increment_in_deaths is {increment_in_deaths}')\n",
    "        print(f'delta_recovered is {delta_recovered}')\n",
    "    \n",
    "    previous_confirmed_count = total_confirmed\n",
    "    previous_death_count = total_deaths\n",
    "    previous_recovered_count = total_recovered\n"
   ]
  },
  {
   "cell_type": "code",
   "execution_count": 76,
   "metadata": {},
   "outputs": [],
   "source": [
    "for day in range(days_since_first_data):\n",
    "#     if len(str(date_iterator.month)) > 1:\n",
    "#         date_iterator_month = str(date_iterator.month)\n",
    "#     else:\n",
    "#         date_iterator_month = '0' + str(date_iterator.month)\n",
    "\n",
    "#     if len(str(date_iterator.day)) > 1:\n",
    "#         date_iterator_day = str(date_iterator.day)\n",
    "#     else:\n",
    "#         date_iterator_day = '0' + str(date_iterator.day)\n",
    "    date_iterator_month = str(date_iterator.month) if len(str(date_iterator.month)) > 1 else '0' + str(date_iterator.month)\n",
    "    print(date_iterator_month)\n",
    "    date_iterator_day = str(date_iterator.day) if len(str(date_iterator.day)) > 1 else '0' + str(date_iterator.day)\n",
    "    print(date_iterator_day)\n",
    "    date_iterator_year = str(date_iterator.year)\n",
    "    print(date_iterator_year)\n",
    "\n",
    "\n",
    "#     date_validator = date_iterator_month + '-' + date_iterator_day + '-' + date_iterator_year\n",
    "#     file_validator = date_validator + '.csv'\n",
    "\n",
    "#     covid_data = pd.read_csv('COVID_data/' + file_validator)\n",
    "\n",
    "#     covid_data.fillna(0, axis=1, inplace=True)\n",
    "#     country ='Mainland China'\n",
    "#     total_confirmed, total_deaths, total_recovered, date_of_first_case = get_daily_data_for_each_country(country, df, date_validator, first_case_found)"
   ]
  }
 ],
 "metadata": {
  "kernelspec": {
   "display_name": "COVID",
   "language": "python",
   "name": "covid"
  },
  "language_info": {
   "codemirror_mode": {
    "name": "ipython",
    "version": 3
   },
   "file_extension": ".py",
   "mimetype": "text/x-python",
   "name": "python",
   "nbconvert_exporter": "python",
   "pygments_lexer": "ipython3",
   "version": "3.7.6"
  }
 },
 "nbformat": 4,
 "nbformat_minor": 4
}
